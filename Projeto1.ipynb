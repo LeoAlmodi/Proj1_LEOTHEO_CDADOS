{
 "cells": [
  {
   "cell_type": "markdown",
   "metadata": {},
   "source": [
    "# Projeto 1 - Ciência dos Dados"
   ]
  },
  {
   "cell_type": "markdown",
   "metadata": {},
   "source": [
    "Nome: Leonardo Almodi dos Reis\n",
    "\n",
    "Nome: Theo Konigsberger Ferros"
   ]
  },
  {
   "cell_type": "markdown",
   "metadata": {},
   "source": [
    "Atenção: Serão permitidos grupos de três pessoas, mas com uma rubrica mais exigente. Grupos deste tamanho precisarão fazer um questionário de avaliação de trabalho em equipe"
   ]
  },
  {
   "cell_type": "markdown",
   "metadata": {},
   "source": [
    "___\n",
    "Carregando algumas bibliotecas:"
   ]
  },
  {
   "cell_type": "code",
   "execution_count": 19,
   "metadata": {},
   "outputs": [],
   "source": [
    "%matplotlib inline\n",
    "import pandas as pd\n",
    "import matplotlib.pyplot as plt\n",
    "import numpy as np\n",
    "import os\n",
    "import re"
   ]
  },
  {
   "cell_type": "code",
   "execution_count": 20,
   "metadata": {
    "scrolled": false
   },
   "outputs": [
    {
     "name": "stdout",
     "output_type": "stream",
     "text": [
      "Esperamos trabalhar no diretório\n",
      "c:\\Users\\theok\\OneDrive\\Área de Trabalho\\Projeto 1 Cdados 2023-2\\Proj1_LEOTHEO_CDADOS\n"
     ]
    }
   ],
   "source": [
    "print('Esperamos trabalhar no diretório')\n",
    "print(os.getcwd())"
   ]
  },
  {
   "cell_type": "markdown",
   "metadata": {},
   "source": [
    "Carregando a base de dados com os tweets classificados manualmente:"
   ]
  },
  {
   "cell_type": "code",
   "execution_count": 21,
   "metadata": {},
   "outputs": [
    {
     "data": {
      "text/html": [
       "<div>\n",
       "<style scoped>\n",
       "    .dataframe tbody tr th:only-of-type {\n",
       "        vertical-align: middle;\n",
       "    }\n",
       "\n",
       "    .dataframe tbody tr th {\n",
       "        vertical-align: top;\n",
       "    }\n",
       "\n",
       "    .dataframe thead th {\n",
       "        text-align: right;\n",
       "    }\n",
       "</style>\n",
       "<table border=\"1\" class=\"dataframe\">\n",
       "  <thead>\n",
       "    <tr style=\"text-align: right;\">\n",
       "      <th></th>\n",
       "      <th>Mensagem</th>\n",
       "      <th>Target</th>\n",
       "    </tr>\n",
       "  </thead>\n",
       "  <tbody>\n",
       "    <tr>\n",
       "      <th>0</th>\n",
       "      <td>Os livros e suas capas estão ótimos. Bonitos e...</td>\n",
       "      <td>0</td>\n",
       "    </tr>\n",
       "    <tr>\n",
       "      <th>1</th>\n",
       "      <td>Como pode uma editora aproveitar o sucesso do ...</td>\n",
       "      <td>2</td>\n",
       "    </tr>\n",
       "    <tr>\n",
       "      <th>2</th>\n",
       "      <td>Muito ruim, uma série de repetições desnecessá...</td>\n",
       "      <td>2</td>\n",
       "    </tr>\n",
       "    <tr>\n",
       "      <th>3</th>\n",
       "      <td>Cansativo. O kindle não facilita as idas e vin...</td>\n",
       "      <td>2</td>\n",
       "    </tr>\n",
       "    <tr>\n",
       "      <th>4</th>\n",
       "      <td>O final decepcionante da trilogia me fez arrep...</td>\n",
       "      <td>2</td>\n",
       "    </tr>\n",
       "  </tbody>\n",
       "</table>\n",
       "</div>"
      ],
      "text/plain": [
       "                                            Mensagem  Target \n",
       "0  Os livros e suas capas estão ótimos. Bonitos e...        0\n",
       "1  Como pode uma editora aproveitar o sucesso do ...        2\n",
       "2  Muito ruim, uma série de repetições desnecessá...        2\n",
       "3  Cansativo. O kindle não facilita as idas e vin...        2\n",
       "4  O final decepcionante da trilogia me fez arrep...        2"
      ]
     },
     "execution_count": 21,
     "metadata": {},
     "output_type": "execute_result"
    }
   ],
   "source": [
    "train = pd.read_excel('dados_treino.xlsx')\n",
    "train.head(5)"
   ]
  },
  {
   "cell_type": "code",
   "execution_count": 22,
   "metadata": {},
   "outputs": [
    {
     "data": {
      "text/html": [
       "<div>\n",
       "<style scoped>\n",
       "    .dataframe tbody tr th:only-of-type {\n",
       "        vertical-align: middle;\n",
       "    }\n",
       "\n",
       "    .dataframe tbody tr th {\n",
       "        vertical-align: top;\n",
       "    }\n",
       "\n",
       "    .dataframe thead th {\n",
       "        text-align: right;\n",
       "    }\n",
       "</style>\n",
       "<table border=\"1\" class=\"dataframe\">\n",
       "  <thead>\n",
       "    <tr style=\"text-align: right;\">\n",
       "      <th></th>\n",
       "      <th>Mensagem</th>\n",
       "      <th>Target</th>\n",
       "    </tr>\n",
       "  </thead>\n",
       "  <tbody>\n",
       "    <tr>\n",
       "      <th>0</th>\n",
       "      <td>Livros e caixa vieram danificados. Parte exter...</td>\n",
       "      <td>2</td>\n",
       "    </tr>\n",
       "    <tr>\n",
       "      <th>1</th>\n",
       "      <td>A \"obra\" é uma fraude completa. O autor é um a...</td>\n",
       "      <td>2</td>\n",
       "    </tr>\n",
       "    <tr>\n",
       "      <th>2</th>\n",
       "      <td>Trata de modo superficial o tema da velocidade...</td>\n",
       "      <td>2</td>\n",
       "    </tr>\n",
       "    <tr>\n",
       "      <th>3</th>\n",
       "      <td>Descreve um relacionamento abusivo, que é bem ...</td>\n",
       "      <td>2</td>\n",
       "    </tr>\n",
       "    <tr>\n",
       "      <th>4</th>\n",
       "      <td>O box chegou com amassados, riscos e com uma e...</td>\n",
       "      <td>2</td>\n",
       "    </tr>\n",
       "  </tbody>\n",
       "</table>\n",
       "</div>"
      ],
      "text/plain": [
       "                                            Mensagem  Target \n",
       "0  Livros e caixa vieram danificados. Parte exter...        2\n",
       "1  A \"obra\" é uma fraude completa. O autor é um a...        2\n",
       "2  Trata de modo superficial o tema da velocidade...        2\n",
       "3  Descreve um relacionamento abusivo, que é bem ...        2\n",
       "4  O box chegou com amassados, riscos e com uma e...        2"
      ]
     },
     "execution_count": 22,
     "metadata": {},
     "output_type": "execute_result"
    }
   ],
   "source": [
    "test = pd.read_excel('dados_teste.xlsx')\n",
    "test.head(5)"
   ]
  },
  {
   "cell_type": "markdown",
   "metadata": {},
   "source": [
    "0 = Neutro;\n",
    "1 = Postivos;\n",
    "2 = Negativo."
   ]
  },
  {
   "cell_type": "markdown",
   "metadata": {},
   "source": [
    "___\n",
    "## Classificador automático\n"
   ]
  },
  {
   "cell_type": "markdown",
   "metadata": {},
   "source": [
    "Faça aqui uma descrição do seu assunto e o que considerou como relevante ou não relevante na classificação dos tweets (Target).\n",
    "\n",
    "O assunto do projeto é sobre Reviews de consumidores sobre livros e suas entregas, e autores, em algum site (AMAZON). O que foi usado como relevante ou nao para a construcao do target foram se os reviews estavam escritos, de modo geral, em afirmacoes positivas, ou negativas, ou caso houvesse um balanco, neutras."
   ]
  },
  {
   "cell_type": "markdown",
   "metadata": {},
   "source": [
    "___\n",
    "### Montando um Classificador Naive-Bayes\n",
    "\n",
    "Considerando apenas as mensagens da planilha Treinamento, ensine  seu classificador."
   ]
  },
  {
   "cell_type": "code",
   "execution_count": 23,
   "metadata": {},
   "outputs": [],
   "source": [
    "def cleanup(text):\n",
    "\n",
    "    # Função de limpeza muito simples que troca alguns sinais básicos por espaços\n",
    "    \n",
    "    punctuation = '[´\"!-.:?;$''/\\|@,><%&*()_+^~`}{+=#*n]'\n",
    "    pattern = re.compile(punctuation)\n",
    "    text_subbed = re.sub(pattern, '', text)\n",
    "    return text_subbed\n",
    "\n",
    " "
   ]
  },
  {
   "cell_type": "code",
   "execution_count": 24,
   "metadata": {},
   "outputs": [
    {
     "name": "stderr",
     "output_type": "stream",
     "text": [
      "C:\\Users\\theok\\AppData\\Local\\Temp\\ipykernel_159532\\880326560.py:2: SettingWithCopyWarning: \n",
      "A value is trying to be set on a copy of a slice from a DataFrame\n",
      "\n",
      "See the caveats in the documentation: https://pandas.pydata.org/pandas-docs/stable/user_guide/indexing.html#returning-a-view-versus-a-copy\n",
      "  train.Mensagem[i] = cleanup(train.Mensagem[i])\n"
     ]
    }
   ],
   "source": [
    "for i in range(len(train.Mensagem)-1):\n",
    "    train.Mensagem[i] = cleanup(train.Mensagem[i])"
   ]
  },
  {
   "cell_type": "code",
   "execution_count": 25,
   "metadata": {},
   "outputs": [],
   "source": [
    "lista_total = []\n",
    "lista_neutro = []\n",
    "lista_positivos = []\n",
    "lista_negativos = []\n",
    "\n",
    "for i in range(len (train.Mensagem)-1):\n",
    "    # Separando os rows do DataFrame\n",
    "    x = train.Mensagem[i].lower().split()\n",
    "    \n",
    "\n",
    "    t = 0\n",
    "    while t < len(x):\n",
    "        lista_total.append(x[t])\n",
    "        t+=1\n",
    "\n",
    "    if train.iloc[i,1] == 0:\n",
    "        n = 0\n",
    "        while n < len(x):\n",
    "            lista_neutro.append(x[n])\n",
    "            n+=1\n",
    "\n",
    "    elif train.iloc[i,1] == 1:\n",
    "        j = 0\n",
    "        while j < len(x):\n",
    "            lista_positivos.append(x[j])\n",
    "            j+=1\n",
    "        \n",
    "    elif train.iloc[i,1] == 2:\n",
    "        k = 0\n",
    "        while k < len(x):\n",
    "            lista_negativos.append(x[k])\n",
    "            k+=1\n",
    "\n"
   ]
  },
  {
   "cell_type": "code",
   "execution_count": 26,
   "metadata": {},
   "outputs": [],
   "source": [
    "serie_total = pd.Series(lista_total)\n",
    "serie_neutro = pd.Series(lista_neutro)\n",
    "serie_positivos = pd.Series(lista_positivos)\n",
    "serie_negativos = pd.Series(lista_negativos)\n"
   ]
  },
  {
   "cell_type": "code",
   "execution_count": 27,
   "metadata": {},
   "outputs": [],
   "source": [
    "abs_total = serie_total.value_counts()\n",
    "abs_neutro = serie_neutro.value_counts()\n",
    "abs_positivos = serie_positivos.value_counts()\n",
    "abs_negativos = serie_negativos.value_counts()\n",
    "\n",
    "rel_total = serie_total.value_counts(True)\n",
    "rel_neutro = serie_neutro.value_counts(True)\n",
    "rel_positivos = serie_positivos.value_counts(True)\n",
    "rel_negativos = serie_negativos.value_counts(True)\n"
   ]
  },
  {
   "cell_type": "code",
   "execution_count": 28,
   "metadata": {},
   "outputs": [
    {
     "data": {
      "text/html": [
       "<div>\n",
       "<style scoped>\n",
       "    .dataframe tbody tr th:only-of-type {\n",
       "        vertical-align: middle;\n",
       "    }\n",
       "\n",
       "    .dataframe tbody tr th {\n",
       "        vertical-align: top;\n",
       "    }\n",
       "\n",
       "    .dataframe thead th {\n",
       "        text-align: right;\n",
       "    }\n",
       "</style>\n",
       "<table border=\"1\" class=\"dataframe\">\n",
       "  <thead>\n",
       "    <tr style=\"text-align: right;\">\n",
       "      <th></th>\n",
       "      <th>Mensagem</th>\n",
       "      <th>Target</th>\n",
       "      <th>Target (código)</th>\n",
       "    </tr>\n",
       "  </thead>\n",
       "  <tbody>\n",
       "    <tr>\n",
       "      <th>0</th>\n",
       "      <td>Os livros e suas capas estão ótimos Boitos e s...</td>\n",
       "      <td>0</td>\n",
       "      <td>2</td>\n",
       "    </tr>\n",
       "    <tr>\n",
       "      <th>1</th>\n",
       "      <td>Como pode uma editora aproveitar o sucesso do ...</td>\n",
       "      <td>2</td>\n",
       "      <td>2</td>\n",
       "    </tr>\n",
       "    <tr>\n",
       "      <th>2</th>\n",
       "      <td>Muito ruim uma série de repetições desecessári...</td>\n",
       "      <td>2</td>\n",
       "      <td>2</td>\n",
       "    </tr>\n",
       "    <tr>\n",
       "      <th>3</th>\n",
       "      <td>Casativo O kidle ão facilita as idas e vidas o...</td>\n",
       "      <td>2</td>\n",
       "      <td>2</td>\n",
       "    </tr>\n",
       "    <tr>\n",
       "      <th>4</th>\n",
       "      <td>O fial decepcioate da trilogia me fez arrepede...</td>\n",
       "      <td>2</td>\n",
       "      <td>2</td>\n",
       "    </tr>\n",
       "    <tr>\n",
       "      <th>...</th>\n",
       "      <td>...</td>\n",
       "      <td>...</td>\n",
       "      <td>...</td>\n",
       "    </tr>\n",
       "    <tr>\n",
       "      <th>295</th>\n",
       "      <td>O livro é excelete porém chegou todo amassado ...</td>\n",
       "      <td>1</td>\n",
       "      <td>2</td>\n",
       "    </tr>\n",
       "    <tr>\n",
       "      <th>296</th>\n",
       "      <td>O livro é de autoajuda e deveria ser vedido co...</td>\n",
       "      <td>2</td>\n",
       "      <td>2</td>\n",
       "    </tr>\n",
       "    <tr>\n",
       "      <th>297</th>\n",
       "      <td>A história em si é boa mas é bem casativa Tete...</td>\n",
       "      <td>0</td>\n",
       "      <td>2</td>\n",
       "    </tr>\n",
       "    <tr>\n",
       "      <th>298</th>\n",
       "      <td>Estava tetado há dias cotiuar ledo sem que fic...</td>\n",
       "      <td>2</td>\n",
       "      <td>2</td>\n",
       "    </tr>\n",
       "    <tr>\n",
       "      <th>299</th>\n",
       "      <td>Como uma criatura dessas consegue ser um”Influ...</td>\n",
       "      <td>2</td>\n",
       "      <td>2</td>\n",
       "    </tr>\n",
       "  </tbody>\n",
       "</table>\n",
       "<p>300 rows × 3 columns</p>\n",
       "</div>"
      ],
      "text/plain": [
       "                                              Mensagem  Target   \\\n",
       "0    Os livros e suas capas estão ótimos Boitos e s...        0   \n",
       "1    Como pode uma editora aproveitar o sucesso do ...        2   \n",
       "2    Muito ruim uma série de repetições desecessári...        2   \n",
       "3    Casativo O kidle ão facilita as idas e vidas o...        2   \n",
       "4    O fial decepcioate da trilogia me fez arrepede...        2   \n",
       "..                                                 ...      ...   \n",
       "295  O livro é excelete porém chegou todo amassado ...        1   \n",
       "296  O livro é de autoajuda e deveria ser vedido co...        2   \n",
       "297  A história em si é boa mas é bem casativa Tete...        0   \n",
       "298  Estava tetado há dias cotiuar ledo sem que fic...        2   \n",
       "299  Como uma criatura dessas consegue ser um”Influ...        2   \n",
       "\n",
       "     Target (código)  \n",
       "0                  2  \n",
       "1                  2  \n",
       "2                  2  \n",
       "3                  2  \n",
       "4                  2  \n",
       "..               ...  \n",
       "295                2  \n",
       "296                2  \n",
       "297                2  \n",
       "298                2  \n",
       "299                2  \n",
       "\n",
       "[300 rows x 3 columns]"
      ]
     },
     "execution_count": 28,
     "metadata": {},
     "output_type": "execute_result"
    }
   ],
   "source": [
    "P_neutro = len(abs_neutro)/len(abs_total)\n",
    "P_positivo = len(abs_positivos)/len(abs_total)\n",
    "P_negativo = len(abs_negativos)/len(abs_total)\n",
    "\n",
    "lista_classificacao = []\n",
    "\n",
    "for m in train.Mensagem:\n",
    "    \n",
    "    lista_palavras = m.split()\n",
    "\n",
    "    P_positivo = 1\n",
    "    P_negativo = 1\n",
    "    P_neutro = 1\n",
    "\n",
    "    for p in lista_palavras:\n",
    "            if p in abs_neutro:\n",
    "                P_neutro *= (abs_neutro[p]+1)/(len(abs_neutro)+ len(abs_total))\n",
    "            else:\n",
    "                P_neutro *= 1/(len(abs_neutro) + len(abs_total))\n",
    "\n",
    "            if p in abs_positivos:\n",
    "                P_positivo *= (abs_positivos[p]+1)/(len(abs_positivos) + len(abs_total))\n",
    "            else:\n",
    "                P_positivo  *= 1/(len(abs_positivos) + len(abs_total))\n",
    "\n",
    "            if p in abs_negativos:\n",
    "                P_negativo *= (abs_negativos[p]+1)/(len(abs_negativos) + len(abs_total))\n",
    "            else:\n",
    "                P_negativo *= 1/(len(abs_negativos) + len(abs_total))\n",
    "\n",
    "\n",
    "    if P_positivo > P_negativo and P_positivo > P_neutro:\n",
    "        lista_classificacao.append(1)\n",
    "    elif P_negativo > P_positivo and P_negativo > P_neutro:\n",
    "        lista_classificacao.append(2)\n",
    "    else:\n",
    "        lista_classificacao.append(0)\n",
    "\n",
    "train['Target (código)'] = lista_classificacao\n",
    "train"
   ]
  },
  {
   "cell_type": "markdown",
   "metadata": {},
   "source": [
    "___\n",
    "### Verificando a performance do Classificador\n",
    "\n",
    "Agora você deve testar o seu classificador com a base de Testes."
   ]
  },
  {
   "cell_type": "code",
   "execution_count": 29,
   "metadata": {},
   "outputs": [
    {
     "name": "stderr",
     "output_type": "stream",
     "text": [
      "C:\\Users\\theok\\AppData\\Local\\Temp\\ipykernel_159532\\1958566861.py:2: SettingWithCopyWarning: \n",
      "A value is trying to be set on a copy of a slice from a DataFrame\n",
      "\n",
      "See the caveats in the documentation: https://pandas.pydata.org/pandas-docs/stable/user_guide/indexing.html#returning-a-view-versus-a-copy\n",
      "  test.Mensagem[i] = cleanup(test.Mensagem[i])\n"
     ]
    }
   ],
   "source": [
    "for i in range(len(test.Mensagem)-1):\n",
    "    test.Mensagem[i] = cleanup(test.Mensagem[i])"
   ]
  },
  {
   "cell_type": "code",
   "execution_count": 30,
   "metadata": {},
   "outputs": [],
   "source": [
    "total = []\n",
    "neutro = []\n",
    "positivos = []\n",
    "negativos = []\n",
    "\n",
    "for i in range(len (test.Mensagem)-1):\n",
    "    # Separando os rows do DataFrame\n",
    "    x = test.Mensagem[i].lower().split()\n",
    "    \n",
    "\n",
    "    t = 0\n",
    "    while t < len(x):\n",
    "        total.append(x[t])\n",
    "        t+=1\n",
    "\n",
    "    if test.iloc[i,1] == 0:\n",
    "        n = 0\n",
    "        while n < len(x):\n",
    "            neutro.append(x[n])\n",
    "            n+=1\n",
    "\n",
    "    elif test.iloc[i,1] == 1:\n",
    "        j = 0\n",
    "        while j < len(x):\n",
    "            positivos.append(x[j])\n",
    "            j+=1\n",
    "        \n",
    "    elif test.iloc[i,1] == 2:\n",
    "        k = 0\n",
    "        while k < len(x):\n",
    "            negativos.append(x[k])\n",
    "            k+=1\n"
   ]
  },
  {
   "cell_type": "code",
   "execution_count": 31,
   "metadata": {},
   "outputs": [],
   "source": [
    "serie_total_test = pd.Series(lista_total)\n",
    "serie_neutro_test = pd.Series(lista_neutro)\n",
    "serie_positivos_test = pd.Series(lista_positivos)\n",
    "serie_negativos_test = pd.Series(lista_negativos)"
   ]
  },
  {
   "cell_type": "code",
   "execution_count": 32,
   "metadata": {},
   "outputs": [],
   "source": [
    "abs_total_test = serie_total.value_counts()\n",
    "abs_neutro_test = serie_neutro.value_counts()\n",
    "abs_positivos_test = serie_positivos.value_counts()\n",
    "abs_negativos_test = serie_negativos.value_counts()\n",
    "\n",
    "rel_total_test = serie_total.value_counts(True)\n",
    "rel_neutro_test = serie_neutro.value_counts(True)\n",
    "rel_positivos_test = serie_positivos.value_counts(True)\n",
    "rel_negativos_test = serie_negativos.value_counts(True)"
   ]
  },
  {
   "cell_type": "code",
   "execution_count": 33,
   "metadata": {},
   "outputs": [
    {
     "data": {
      "text/html": [
       "<div>\n",
       "<style scoped>\n",
       "    .dataframe tbody tr th:only-of-type {\n",
       "        vertical-align: middle;\n",
       "    }\n",
       "\n",
       "    .dataframe tbody tr th {\n",
       "        vertical-align: top;\n",
       "    }\n",
       "\n",
       "    .dataframe thead th {\n",
       "        text-align: right;\n",
       "    }\n",
       "</style>\n",
       "<table border=\"1\" class=\"dataframe\">\n",
       "  <thead>\n",
       "    <tr style=\"text-align: right;\">\n",
       "      <th></th>\n",
       "      <th>Mensagem</th>\n",
       "      <th>Target</th>\n",
       "      <th>Target (código)</th>\n",
       "    </tr>\n",
       "  </thead>\n",
       "  <tbody>\n",
       "    <tr>\n",
       "      <th>0</th>\n",
       "      <td>Livros e caixa vieram daificados Parte extera ...</td>\n",
       "      <td>2</td>\n",
       "      <td>2</td>\n",
       "    </tr>\n",
       "    <tr>\n",
       "      <th>1</th>\n",
       "      <td>A obra é uma fraude completa O autor é um astr...</td>\n",
       "      <td>2</td>\n",
       "      <td>2</td>\n",
       "    </tr>\n",
       "    <tr>\n",
       "      <th>2</th>\n",
       "      <td>Trata de modo superficial o tema da velocidade...</td>\n",
       "      <td>2</td>\n",
       "      <td>2</td>\n",
       "    </tr>\n",
       "    <tr>\n",
       "      <th>3</th>\n",
       "      <td>Descreve um relacioameto abusivo que é bem dif...</td>\n",
       "      <td>2</td>\n",
       "      <td>2</td>\n",
       "    </tr>\n",
       "    <tr>\n",
       "      <th>4</th>\n",
       "      <td>O box chegou com amassados riscos e com uma es...</td>\n",
       "      <td>2</td>\n",
       "      <td>2</td>\n",
       "    </tr>\n",
       "  </tbody>\n",
       "</table>\n",
       "</div>"
      ],
      "text/plain": [
       "                                            Mensagem  Target   Target (código)\n",
       "0  Livros e caixa vieram daificados Parte extera ...        2                2\n",
       "1  A obra é uma fraude completa O autor é um astr...        2                2\n",
       "2  Trata de modo superficial o tema da velocidade...        2                2\n",
       "3  Descreve um relacioameto abusivo que é bem dif...        2                2\n",
       "4  O box chegou com amassados riscos e com uma es...        2                2"
      ]
     },
     "execution_count": 33,
     "metadata": {},
     "output_type": "execute_result"
    }
   ],
   "source": [
    "P_test_neutro = len(abs_neutro_test)/len(abs_total_test)\n",
    "P_test_positivo = len(abs_positivos_test)/len(abs_total_test)\n",
    "P_test_negativo = len(abs_negativos_test)/len(abs_total_test)\n",
    "\n",
    "lista_test_classificacao = []\n",
    "\n",
    "for m in test.Mensagem:\n",
    "    \n",
    "    lista__test_palavras = m.split()\n",
    "\n",
    "    P_test_positivo = 1\n",
    "    P_test_negativo = 1\n",
    "    P_test_neutro = 1\n",
    "\n",
    "    for p in lista_palavras:\n",
    "            if p in abs_neutro_test:\n",
    "                P_test_neutro *= (abs_neutro_test[p]+1)/(len(abs_neutro_test)+ len(abs_total_test))\n",
    "            else:\n",
    "                P_test_neutro *= 1/(len(abs_neutro_test) + len(abs_total_test))\n",
    "\n",
    "            if p in abs_positivos_test:\n",
    "                P_test_positivo *= (abs_positivos_test[p]+1)/(len(abs_positivos_test) + len(abs_total_test))\n",
    "            else:\n",
    "                P_test_positivo  *= 1/(len(abs_positivos_test) + len(abs_total_test))\n",
    "\n",
    "            if p in abs_negativos_test:\n",
    "                P_test_negativo *= (abs_negativos_test[p]+1)/(len(abs_negativos_test) + len(abs_total_test))\n",
    "            else:\n",
    "                P_test_negativo *= 1/(len(abs_negativos_test) + len(abs_total_test))\n",
    "\n",
    "\n",
    "    if P_test_positivo > P_test_negativo and P_test_positivo > P_test_neutro:\n",
    "        lista_test_classificacao.append(1)\n",
    "    elif P_test_negativo > P_test_positivo and P_test_negativo > P_test_neutro:\n",
    "        lista_test_classificacao.append(2)\n",
    "    else:\n",
    "        lista_test_classificacao.append(0)\n",
    "\n",
    "test['Target (código)'] = lista_test_classificacao\n",
    "test.head()"
   ]
  },
  {
   "cell_type": "code",
   "execution_count": 34,
   "metadata": {},
   "outputs": [
    {
     "ename": "AttributeError",
     "evalue": "'DataFrame' object has no attribute 'Target'",
     "output_type": "error",
     "traceback": [
      "\u001b[1;31m---------------------------------------------------------------------------\u001b[0m",
      "\u001b[1;31mAttributeError\u001b[0m                            Traceback (most recent call last)",
      "\u001b[1;32mc:\\Users\\theok\\OneDrive\\Área de Trabalho\\Projeto 1 Cdados 2023-2\\Proj1_LEOTHEO_CDADOS\\Projeto1.ipynb Célula 26\u001b[0m line \u001b[0;36m<cell line: 1>\u001b[1;34m()\u001b[0m\n\u001b[1;32m----> <a href='vscode-notebook-cell:/c%3A/Users/theok/OneDrive/%C3%81rea%20de%20Trabalho/Projeto%201%20Cdados%202023-2/Proj1_LEOTHEO_CDADOS/Projeto1.ipynb#X34sZmlsZQ%3D%3D?line=0'>1</a>\u001b[0m lista_classificacao_correta \u001b[39m=\u001b[39m test\u001b[39m.\u001b[39;49mTarget\n\u001b[0;32m      <a href='vscode-notebook-cell:/c%3A/Users/theok/OneDrive/%C3%81rea%20de%20Trabalho/Projeto%201%20Cdados%202023-2/Proj1_LEOTHEO_CDADOS/Projeto1.ipynb#X34sZmlsZQ%3D%3D?line=2'>3</a>\u001b[0m tabela_relativa \u001b[39m=\u001b[39m pd\u001b[39m.\u001b[39mcrosstab(lista_classificacao_correta, lista_test_classificacao, rownames\u001b[39m=\u001b[39m[\u001b[39m'\u001b[39m\u001b[39mTarget\u001b[39m\u001b[39m'\u001b[39m], colnames\u001b[39m=\u001b[39m[\u001b[39m'\u001b[39m\u001b[39mTarget (código)\u001b[39m\u001b[39m'\u001b[39m], normalize\u001b[39m=\u001b[39m\u001b[39mTrue\u001b[39;00m)\n\u001b[0;32m      <a href='vscode-notebook-cell:/c%3A/Users/theok/OneDrive/%C3%81rea%20de%20Trabalho/Projeto%201%20Cdados%202023-2/Proj1_LEOTHEO_CDADOS/Projeto1.ipynb#X34sZmlsZQ%3D%3D?line=3'>4</a>\u001b[0m display(tabela_relativa)\n",
      "File \u001b[1;32mc:\\Users\\theok\\anaconda3\\lib\\site-packages\\pandas\\core\\generic.py:5575\u001b[0m, in \u001b[0;36mNDFrame.__getattr__\u001b[1;34m(self, name)\u001b[0m\n\u001b[0;32m   5568\u001b[0m \u001b[39mif\u001b[39;00m (\n\u001b[0;32m   5569\u001b[0m     name \u001b[39mnot\u001b[39;00m \u001b[39min\u001b[39;00m \u001b[39mself\u001b[39m\u001b[39m.\u001b[39m_internal_names_set\n\u001b[0;32m   5570\u001b[0m     \u001b[39mand\u001b[39;00m name \u001b[39mnot\u001b[39;00m \u001b[39min\u001b[39;00m \u001b[39mself\u001b[39m\u001b[39m.\u001b[39m_metadata\n\u001b[0;32m   5571\u001b[0m     \u001b[39mand\u001b[39;00m name \u001b[39mnot\u001b[39;00m \u001b[39min\u001b[39;00m \u001b[39mself\u001b[39m\u001b[39m.\u001b[39m_accessors\n\u001b[0;32m   5572\u001b[0m     \u001b[39mand\u001b[39;00m \u001b[39mself\u001b[39m\u001b[39m.\u001b[39m_info_axis\u001b[39m.\u001b[39m_can_hold_identifiers_and_holds_name(name)\n\u001b[0;32m   5573\u001b[0m ):\n\u001b[0;32m   5574\u001b[0m     \u001b[39mreturn\u001b[39;00m \u001b[39mself\u001b[39m[name]\n\u001b[1;32m-> 5575\u001b[0m \u001b[39mreturn\u001b[39;00m \u001b[39mobject\u001b[39;49m\u001b[39m.\u001b[39;49m\u001b[39m__getattribute__\u001b[39;49m(\u001b[39mself\u001b[39;49m, name)\n",
      "\u001b[1;31mAttributeError\u001b[0m: 'DataFrame' object has no attribute 'Target'"
     ]
    }
   ],
   "source": [
    "lista_classificacao_correta = test.Target\n",
    "\n",
    "tabela_relativa = pd.crosstab(lista_classificacao_correta, lista_test_classificacao, rownames=['Target'], colnames=['Target (código)'], normalize=True)\n",
    "display(tabela_relativa)\n",
    "print('\\n')\n",
    "\n",
    "verdadeiro_negativo = tabela_relativa.iloc[2,2]\n",
    "verdadeiro_positivo = tabela_relativa.iloc[1,1]\n",
    "verdadeiro_neutro = tabela_relativa.iloc[0,0]\n",
    "\n",
    "falso_negativo = tabela_relativa.iloc[0,2] + tabela_relativa.iloc[1,2]\n",
    "falso_positivo = tabela_relativa.iloc[0,1] + tabela_relativa.iloc[2,1]\n",
    "falso_neutro = tabela_relativa.iloc[1,0] + tabela_relativa.iloc[2,0]\n",
    "\n",
    "tabela_acertos_erros = pd.DataFrame({'Verdadeiro Positivo': [f\"{verdadeiro_positivo*100:.2f}%\"], 'Verdadeiro Negativo': [f\"{verdadeiro_negativo*100:.2f}%\"], 'Verdadeiro Neutro': [f\"{verdadeiro_neutro*100:.2f}%\"], 'Falso Neutro': [f\"{falso_neutro*100:.2f}%\"], 'Falso Positivo': [f\"{falso_positivo*100:.2f}%\"], 'Falso Negativo': [f\"{falso_negativo*100:.2f}%\"]})\n",
    "display(tabela_acertos_erros)\n",
    "print('\\n')\n",
    "\n",
    "acertos_neutros = tabela_relativa.iloc[0,0]/(tabela_relativa.iloc[:,0].sum())\n",
    "print(f'A porcantegem de acerto quando o código fala que é neutro, é de: {acertos_neutros.round(4)*100}%')\n",
    "acertos_positivo = tabela_relativa.iloc[1,1]/(tabela_relativa.iloc[:,1].sum())\n",
    "print(f'A porcantegem de acerto quando o código fala que é positivo, é de: {acertos_positivo.round(4)*100}%')\n",
    "acertos_negativos = tabela_relativa.iloc[2,2]/(tabela_relativa.iloc[:,2].sum())\n",
    "print(f'A porcantegem de acerto quando o código fala que é negativo, é de: {acertos_negativos.round(4)*100}%')\n"
   ]
  },
  {
   "cell_type": "code",
   "execution_count": null,
   "metadata": {},
   "outputs": [],
   "source": [
    "acuracia = tabela_relativa.iloc[0,0] + tabela_relativa.iloc[1,1] + tabela_relativa.iloc[2,2]\n",
    "print('\\n')\n",
    "print(f'A acurácia é de: {acuracia.round(4)*100}%')"
   ]
  },
  {
   "cell_type": "markdown",
   "metadata": {},
   "source": [
    "___\n",
    "### Concluindo"
   ]
  },
  {
   "cell_type": "code",
   "execution_count": null,
   "metadata": {},
   "outputs": [],
   "source": []
  },
  {
   "cell_type": "code",
   "execution_count": null,
   "metadata": {},
   "outputs": [],
   "source": []
  },
  {
   "cell_type": "code",
   "execution_count": null,
   "metadata": {},
   "outputs": [],
   "source": []
  },
  {
   "cell_type": "markdown",
   "metadata": {},
   "source": [
    "___\n",
    "### Qualidade do Classificador a partir de novas separações dos tweets entre Treinamento e Teste\n",
    "\n",
    "Caso for fazer esse item do Projeto"
   ]
  },
  {
   "cell_type": "code",
   "execution_count": null,
   "metadata": {},
   "outputs": [],
   "source": []
  },
  {
   "cell_type": "code",
   "execution_count": null,
   "metadata": {},
   "outputs": [],
   "source": []
  },
  {
   "cell_type": "code",
   "execution_count": null,
   "metadata": {},
   "outputs": [],
   "source": []
  },
  {
   "cell_type": "markdown",
   "metadata": {},
   "source": [
    "___\n",
    "## Aperfeiçoamento:\n",
    "\n",
    "Trabalhos que conseguirem pelo menos conceito B vão evoluir em conceito dependendo da quantidade de itens avançados:\n",
    "\n",
    "* IMPLEMENTOU outras limpezas e transformações que não afetem a qualidade da informação contida nos tweets. Ex: stemming, lemmatization, stopwords\n",
    "* CONSIDEROU mais de duas categorias na variável Target e INCREMENTOU a quantidade de notícias, mantendo pelo menos 250 notícias por categoria (OBRIGATÓRIO PARA TRIOS, sem contar como item avançado)\n",
    "* Para Target com duas categorias: CRIOU pelo menos quatro categorias intermediárias de relevância baseadas na probabilidade: ex.: muito relevante, relevante, neutro, irrelevante, muito irrelevante\n",
    "* EXPLICOU porquê não pode usar o próprio classificador para gerar mais amostras de treinamento\n",
    "* PROPÔS diferentes cenários para Naïve Bayes fora do contexto do projeto (pelo menos dois cenários, exceto aqueles já apresentados em sala pelos professores: por exemplo, filtro de spam)\n",
    "* SUGERIU e EXPLICOU melhorias reais com indicações concretas de como implementar (indicar como fazer e indicar material de pesquisa)\n",
    "* FEZ o item Qualidade do Classificador a partir de novas separações das Notícias entre Treinamento e Teste descrito no enunciado do projeto (OBRIGATÓRIO para conceitos A ou A+)"
   ]
  },
  {
   "cell_type": "markdown",
   "metadata": {},
   "source": [
    "___\n",
    "## Referências"
   ]
  },
  {
   "cell_type": "markdown",
   "metadata": {},
   "source": [
    "[Naive Bayes and Text Classification](https://arxiv.org/pdf/1410.5329.pdf)  **Mais completo**\n",
    "\n",
    "[A practical explanation of a Naive Bayes Classifier](https://monkeylearn.com/blog/practical-explanation-naive-bayes-classifier/) **Mais simples**"
   ]
  },
  {
   "cell_type": "code",
   "execution_count": null,
   "metadata": {},
   "outputs": [],
   "source": []
  }
 ],
 "metadata": {
  "kernelspec": {
   "display_name": "Python 3",
   "language": "python",
   "name": "python3"
  },
  "language_info": {
   "codemirror_mode": {
    "name": "ipython",
    "version": 3
   },
   "file_extension": ".py",
   "mimetype": "text/x-python",
   "name": "python",
   "nbconvert_exporter": "python",
   "pygments_lexer": "ipython3",
   "version": "3.9.12"
  }
 },
 "nbformat": 4,
 "nbformat_minor": 4
}
