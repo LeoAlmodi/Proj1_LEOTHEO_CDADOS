{
 "cells": [
  {
   "cell_type": "markdown",
   "metadata": {},
   "source": [
    "# Projeto 1 - Ciência dos Dados"
   ]
  },
  {
   "attachments": {},
   "cell_type": "markdown",
   "metadata": {},
   "source": [
    "Nome: Vítor Nucci Sevá Pereira\n",
    "\n",
    "Nome: Leonardo Almodi dos Reis"
   ]
  },
  {
   "cell_type": "markdown",
   "metadata": {},
   "source": [
    "Atenção: Serão permitidos grupos de três pessoas, mas com uma rubrica mais exigente. Grupos deste tamanho precisarão fazer um questionário de avaliação de trabalho em equipe"
   ]
  },
  {
   "cell_type": "markdown",
   "metadata": {},
   "source": [
    "___\n",
    "Carregando algumas bibliotecas:"
   ]
  },
  {
   "cell_type": "code",
   "execution_count": 1,
   "metadata": {},
   "outputs": [],
   "source": [
    "%matplotlib inline\n",
    "import pandas as pd\n",
    "import matplotlib.pyplot as plt\n",
    "import numpy as np\n",
    "import os"
   ]
  },
  {
   "cell_type": "code",
   "execution_count": 2,
   "metadata": {
    "scrolled": false
   },
   "outputs": [
    {
     "name": "stdout",
     "output_type": "stream",
     "text": [
      "Esperamos trabalhar no diretório\n",
      "c:\\Users\\theok\\OneDrive\\Área de Trabalho\\Projeto 1 Cdados 2023-2\\Proj1_LEOTHEO_CDADOS\n"
     ]
    }
   ],
   "source": [
    "print('Esperamos trabalhar no diretório')\n",
    "print(os.getcwd())"
   ]
  },
  {
   "cell_type": "markdown",
   "metadata": {},
   "source": [
    "Carregando a base de dados com os tweets classificados manualmente:"
   ]
  },
  {
   "cell_type": "code",
   "execution_count": 3,
   "metadata": {},
   "outputs": [
    {
     "data": {
      "text/html": [
       "<div>\n",
       "<style scoped>\n",
       "    .dataframe tbody tr th:only-of-type {\n",
       "        vertical-align: middle;\n",
       "    }\n",
       "\n",
       "    .dataframe tbody tr th {\n",
       "        vertical-align: top;\n",
       "    }\n",
       "\n",
       "    .dataframe thead th {\n",
       "        text-align: right;\n",
       "    }\n",
       "</style>\n",
       "<table border=\"1\" class=\"dataframe\">\n",
       "  <thead>\n",
       "    <tr style=\"text-align: right;\">\n",
       "      <th></th>\n",
       "      <th>Mensagem</th>\n",
       "      <th>Target</th>\n",
       "    </tr>\n",
       "  </thead>\n",
       "  <tbody>\n",
       "    <tr>\n",
       "      <th>0</th>\n",
       "      <td>Os livros e suas capas estão ótimos. Bonitos e...</td>\n",
       "      <td>2</td>\n",
       "    </tr>\n",
       "    <tr>\n",
       "      <th>1</th>\n",
       "      <td>Como pode uma editora aproveitar o sucesso do ...</td>\n",
       "      <td>0</td>\n",
       "    </tr>\n",
       "    <tr>\n",
       "      <th>2</th>\n",
       "      <td>Muito ruim, uma série de repetições desnecessá...</td>\n",
       "      <td>0</td>\n",
       "    </tr>\n",
       "    <tr>\n",
       "      <th>3</th>\n",
       "      <td>Cansativo. O kindle não facilita as idas e vin...</td>\n",
       "      <td>2</td>\n",
       "    </tr>\n",
       "    <tr>\n",
       "      <th>4</th>\n",
       "      <td>O final decepcionante da trilogia me fez arrep...</td>\n",
       "      <td>0</td>\n",
       "    </tr>\n",
       "  </tbody>\n",
       "</table>\n",
       "</div>"
      ],
      "text/plain": [
       "                                            Mensagem  Target\n",
       "0  Os livros e suas capas estão ótimos. Bonitos e...       2\n",
       "1  Como pode uma editora aproveitar o sucesso do ...       0\n",
       "2  Muito ruim, uma série de repetições desnecessá...       0\n",
       "3  Cansativo. O kindle não facilita as idas e vin...       2\n",
       "4  O final decepcionante da trilogia me fez arrep...       0"
      ]
     },
     "execution_count": 3,
     "metadata": {},
     "output_type": "execute_result"
    }
   ],
   "source": [
    "train = pd.read_excel('dados_treino.xlsx')\n",
    "train.head(5)"
   ]
  },
  {
   "cell_type": "code",
   "execution_count": 4,
   "metadata": {},
   "outputs": [
    {
     "data": {
      "text/html": [
       "<div>\n",
       "<style scoped>\n",
       "    .dataframe tbody tr th:only-of-type {\n",
       "        vertical-align: middle;\n",
       "    }\n",
       "\n",
       "    .dataframe tbody tr th {\n",
       "        vertical-align: top;\n",
       "    }\n",
       "\n",
       "    .dataframe thead th {\n",
       "        text-align: right;\n",
       "    }\n",
       "</style>\n",
       "<table border=\"1\" class=\"dataframe\">\n",
       "  <thead>\n",
       "    <tr style=\"text-align: right;\">\n",
       "      <th></th>\n",
       "      <th>Mensagem</th>\n",
       "      <th>Target</th>\n",
       "    </tr>\n",
       "  </thead>\n",
       "  <tbody>\n",
       "    <tr>\n",
       "      <th>0</th>\n",
       "      <td>Livros e caixa vieram danificados. Parte exter...</td>\n",
       "      <td>2</td>\n",
       "    </tr>\n",
       "    <tr>\n",
       "      <th>1</th>\n",
       "      <td>A \"obra\" é uma fraude completa. O autor é um a...</td>\n",
       "      <td>0</td>\n",
       "    </tr>\n",
       "    <tr>\n",
       "      <th>2</th>\n",
       "      <td>Trata de modo superficial o tema da velocidade...</td>\n",
       "      <td>0</td>\n",
       "    </tr>\n",
       "    <tr>\n",
       "      <th>3</th>\n",
       "      <td>Descreve um relacionamento abusivo, que é bem ...</td>\n",
       "      <td>0</td>\n",
       "    </tr>\n",
       "    <tr>\n",
       "      <th>4</th>\n",
       "      <td>O box chegou com amassados, riscos e com uma e...</td>\n",
       "      <td>2</td>\n",
       "    </tr>\n",
       "  </tbody>\n",
       "</table>\n",
       "</div>"
      ],
      "text/plain": [
       "                                            Mensagem  Target\n",
       "0  Livros e caixa vieram danificados. Parte exter...       2\n",
       "1  A \"obra\" é uma fraude completa. O autor é um a...       0\n",
       "2  Trata de modo superficial o tema da velocidade...       0\n",
       "3  Descreve um relacionamento abusivo, que é bem ...       0\n",
       "4  O box chegou com amassados, riscos e com uma e...       2"
      ]
     },
     "execution_count": 4,
     "metadata": {},
     "output_type": "execute_result"
    }
   ],
   "source": [
    "test = pd.read_excel('dados_teste.xlsx')\n",
    "test.head(5)"
   ]
  },
  {
   "cell_type": "markdown",
   "metadata": {},
   "source": [
    "___\n",
    "## Classificador automático\n"
   ]
  },
  {
   "cell_type": "markdown",
   "metadata": {},
   "source": [
    "Faça aqui uma descrição do seu assunto e o que considerou como relevante ou não relevante na classificação dos tweets (Target).\n",
    "\n",
    "Inicialmente, iremos chamar as targets de seguintes nomes no código:\n",
    "0 -> Sobre livros = Neutro;\n",
    "1 -> Sobre autor = Positivo;\n",
    "2 -> Sobre sites e encomendas = Negativo;"
   ]
  },
  {
   "cell_type": "markdown",
   "metadata": {},
   "source": [
    "___\n",
    "### Montando um Classificador Naive-Bayes\n",
    "\n",
    "Considerando apenas as mensagens da planilha Treinamento, ensine  seu classificador."
   ]
  },
  {
   "attachments": {},
   "cell_type": "markdown",
   "metadata": {},
   "source": [
    "### • Limpando as reviews:"
   ]
  },
  {
   "cell_type": "code",
   "execution_count": 5,
   "metadata": {},
   "outputs": [],
   "source": [
    "import re \n",
    "\n",
    "def cleanup(text):\n",
    "\n",
    "    # Função de limpeza muito simples que troca alguns sinais básicos por espaços\n",
    "    \n",
    "    punctuation = '[´\"!-.:?;$''/\\|@,><%&*()_+^~`}{+=#*n]'\n",
    "    pattern = re.compile(punctuation)\n",
    "    text_subbed = re.sub(pattern, '', text)\n",
    "    return text_subbed\n",
    "\n"
   ]
  },
  {
   "cell_type": "code",
   "execution_count": 6,
   "metadata": {},
   "outputs": [
    {
     "name": "stderr",
     "output_type": "stream",
     "text": [
      "C:\\Users\\theok\\AppData\\Local\\Temp\\ipykernel_55596\\388858104.py:2: SettingWithCopyWarning: \n",
      "A value is trying to be set on a copy of a slice from a DataFrame\n",
      "\n",
      "See the caveats in the documentation: https://pandas.pydata.org/pandas-docs/stable/user_guide/indexing.html#returning-a-view-versus-a-copy\n",
      "  train.Mensagem[i] = cleanup(train.Mensagem[i])\n"
     ]
    }
   ],
   "source": [
    "\n",
    "for i in range(len (train.Mensagem)-1):\n",
    "    train.Mensagem[i] = cleanup(train.Mensagem[i])\n"
   ]
  },
  {
   "attachments": {},
   "cell_type": "markdown",
   "metadata": {},
   "source": [
    "### • Criando listas com todas as palavras de cada classificação:"
   ]
  },
  {
   "cell_type": "code",
   "execution_count": 7,
   "metadata": {},
   "outputs": [],
   "source": [
    "lista_total = []\n",
    "lista_neutro = []\n",
    "lista_positivos = []\n",
    "lista_negativos = []\n",
    "\n",
    "for i in range(len (train.Mensagem)-1):\n",
    "    # Separando os rows do DataFrame\n",
    "    x = train.Mensagem[i].lower().split()\n",
    "    \n",
    "\n",
    "    t = 0\n",
    "    while t < len(x):\n",
    "        lista_total.append(x[t])\n",
    "        t+=1\n",
    "\n",
    "    if train.iloc[i,1] == 0:\n",
    "        n = 0\n",
    "        while n < len(x):\n",
    "            lista_neutro.append(x[n])\n",
    "            n+=1\n",
    "\n",
    "    elif train.iloc[i,1] == 1:\n",
    "        j = 0\n",
    "        while j < len(x):\n",
    "            lista_positivos.append(x[j])\n",
    "            j+=1\n",
    "        \n",
    "    elif train.iloc[i,1] == 2:\n",
    "        k = 0\n",
    "        while k < len(x):\n",
    "            lista_negativos.append(x[k])\n",
    "            k+=1\n",
    "\n"
   ]
  },
  {
   "attachments": {},
   "cell_type": "markdown",
   "metadata": {},
   "source": [
    "### • Criando um pd.series para cada categoria:"
   ]
  },
  {
   "cell_type": "code",
   "execution_count": 8,
   "metadata": {},
   "outputs": [],
   "source": [
    "serie_total = pd.Series(lista_total)\n",
    "\n",
    "serie_positivos = pd.Series(lista_positivos)\n",
    "\n",
    "serie_negativos = pd.Series(lista_negativos)\n",
    "\n",
    "serie_neutro = pd.Series(lista_neutro)\n"
   ]
  },
  {
   "attachments": {},
   "cell_type": "markdown",
   "metadata": {},
   "source": [
    "### • Frequências absolutas:"
   ]
  },
  {
   "cell_type": "code",
   "execution_count": 9,
   "metadata": {},
   "outputs": [],
   "source": [
    "total_absoluta = serie_total.value_counts()\n",
    "\n",
    "positivos_absoluta = serie_positivos.value_counts()\n",
    "\n",
    "negativos_absoluta = serie_negativos.value_counts()\n",
    "\n",
    "neutro_absoluta = serie_neutro.value_counts()"
   ]
  },
  {
   "attachments": {},
   "cell_type": "markdown",
   "metadata": {},
   "source": [
    "### • Frequências relativas:"
   ]
  },
  {
   "cell_type": "code",
   "execution_count": 10,
   "metadata": {},
   "outputs": [],
   "source": [
    "total_relativa = serie_total.value_counts(True)\n",
    "\n",
    "positivos_relativa = serie_positivos.value_counts(True)\n",
    "\n",
    "negativos_relativa = serie_negativos.value_counts(True)\n",
    "\n",
    "neutro_relativa = serie_neutro.value_counts(True)"
   ]
  },
  {
   "attachments": {},
   "cell_type": "markdown",
   "metadata": {},
   "source": [
    "### • Probabilidades:"
   ]
  },
  {
   "cell_type": "code",
   "execution_count": 11,
   "metadata": {},
   "outputs": [
    {
     "data": {
      "text/html": [
       "<div>\n",
       "<style scoped>\n",
       "    .dataframe tbody tr th:only-of-type {\n",
       "        vertical-align: middle;\n",
       "    }\n",
       "\n",
       "    .dataframe tbody tr th {\n",
       "        vertical-align: top;\n",
       "    }\n",
       "\n",
       "    .dataframe thead th {\n",
       "        text-align: right;\n",
       "    }\n",
       "</style>\n",
       "<table border=\"1\" class=\"dataframe\">\n",
       "  <thead>\n",
       "    <tr style=\"text-align: right;\">\n",
       "      <th></th>\n",
       "      <th>Mensagem</th>\n",
       "      <th>Target</th>\n",
       "      <th>Target (código)</th>\n",
       "    </tr>\n",
       "  </thead>\n",
       "  <tbody>\n",
       "    <tr>\n",
       "      <th>0</th>\n",
       "      <td>Os livros e suas capas estão ótimos Boitos e s...</td>\n",
       "      <td>2</td>\n",
       "      <td>2</td>\n",
       "    </tr>\n",
       "    <tr>\n",
       "      <th>1</th>\n",
       "      <td>Como pode uma editora aproveitar o sucesso do ...</td>\n",
       "      <td>0</td>\n",
       "      <td>0</td>\n",
       "    </tr>\n",
       "    <tr>\n",
       "      <th>2</th>\n",
       "      <td>Muito ruim uma série de repetições desecessári...</td>\n",
       "      <td>0</td>\n",
       "      <td>0</td>\n",
       "    </tr>\n",
       "    <tr>\n",
       "      <th>3</th>\n",
       "      <td>Casativo O kidle ão facilita as idas e vidas o...</td>\n",
       "      <td>2</td>\n",
       "      <td>0</td>\n",
       "    </tr>\n",
       "    <tr>\n",
       "      <th>4</th>\n",
       "      <td>O fial decepcioate da trilogia me fez arrepede...</td>\n",
       "      <td>0</td>\n",
       "      <td>0</td>\n",
       "    </tr>\n",
       "    <tr>\n",
       "      <th>...</th>\n",
       "      <td>...</td>\n",
       "      <td>...</td>\n",
       "      <td>...</td>\n",
       "    </tr>\n",
       "    <tr>\n",
       "      <th>295</th>\n",
       "      <td>O livro é excelete porém chegou todo amassado ...</td>\n",
       "      <td>2</td>\n",
       "      <td>2</td>\n",
       "    </tr>\n",
       "    <tr>\n",
       "      <th>296</th>\n",
       "      <td>O livro é de autoajuda e deveria ser vedido co...</td>\n",
       "      <td>0</td>\n",
       "      <td>0</td>\n",
       "    </tr>\n",
       "    <tr>\n",
       "      <th>297</th>\n",
       "      <td>A história em si é boa mas é bem casativa Tete...</td>\n",
       "      <td>0</td>\n",
       "      <td>0</td>\n",
       "    </tr>\n",
       "    <tr>\n",
       "      <th>298</th>\n",
       "      <td>Estava tetado há dias cotiuar ledo sem que fic...</td>\n",
       "      <td>0</td>\n",
       "      <td>0</td>\n",
       "    </tr>\n",
       "    <tr>\n",
       "      <th>299</th>\n",
       "      <td>Como uma criatura dessas consegue ser um”Influ...</td>\n",
       "      <td>1</td>\n",
       "      <td>0</td>\n",
       "    </tr>\n",
       "  </tbody>\n",
       "</table>\n",
       "<p>300 rows × 3 columns</p>\n",
       "</div>"
      ],
      "text/plain": [
       "                                              Mensagem  Target  \\\n",
       "0    Os livros e suas capas estão ótimos Boitos e s...       2   \n",
       "1    Como pode uma editora aproveitar o sucesso do ...       0   \n",
       "2    Muito ruim uma série de repetições desecessári...       0   \n",
       "3    Casativo O kidle ão facilita as idas e vidas o...       2   \n",
       "4    O fial decepcioate da trilogia me fez arrepede...       0   \n",
       "..                                                 ...     ...   \n",
       "295  O livro é excelete porém chegou todo amassado ...       2   \n",
       "296  O livro é de autoajuda e deveria ser vedido co...       0   \n",
       "297  A história em si é boa mas é bem casativa Tete...       0   \n",
       "298  Estava tetado há dias cotiuar ledo sem que fic...       0   \n",
       "299  Como uma criatura dessas consegue ser um”Influ...       1   \n",
       "\n",
       "     Target (código)  \n",
       "0                  2  \n",
       "1                  0  \n",
       "2                  0  \n",
       "3                  0  \n",
       "4                  0  \n",
       "..               ...  \n",
       "295                2  \n",
       "296                0  \n",
       "297                0  \n",
       "298                0  \n",
       "299                0  \n",
       "\n",
       "[300 rows x 3 columns]"
      ]
     },
     "execution_count": 11,
     "metadata": {},
     "output_type": "execute_result"
    }
   ],
   "source": [
    "P_positivo = len(positivos_absoluta)/len(total_absoluta)\n",
    "P_negativo = len(negativos_absoluta)/len(total_absoluta)\n",
    "P_neutro = len(neutro_absoluta)/len(total_absoluta)\n",
    "lista_classificacao = []\n",
    "\n",
    "for mensagem in train.Mensagem:\n",
    "    \n",
    "    lista_palavras = mensagem.split()\n",
    "\n",
    "    P_positivo = 1\n",
    "    P_negativo = 1\n",
    "    P_neutro = 1\n",
    "\n",
    "    for palavra in lista_palavras:\n",
    "            if palavra in neutro_absoluta:\n",
    "                P_neutro *= (neutro_absoluta[palavra]+1)/(len(neutro_absoluta)+ len(total_absoluta))\n",
    "            else:\n",
    "                P_neutro *= 1/(len(neutro_absoluta) + len(total_absoluta))\n",
    "\n",
    "            if palavra in positivos_absoluta:\n",
    "                P_positivo *= (positivos_absoluta[palavra]+1)/(len(positivos_absoluta) + len(total_absoluta))\n",
    "            else:\n",
    "                P_positivo  *= 1/(len(positivos_absoluta) + len(total_absoluta))\n",
    "\n",
    "            if palavra in negativos_absoluta:\n",
    "                P_negativo *= (negativos_absoluta[palavra]+1)/(len(negativos_absoluta) + len(total_absoluta))\n",
    "            else:\n",
    "                P_negativo *= 1/(len(negativos_absoluta) + len(total_absoluta))\n",
    "\n",
    "\n",
    "    if P_positivo > P_negativo and P_positivo > P_neutro:\n",
    "        lista_classificacao.append(1)\n",
    "    elif P_negativo > P_positivo and P_negativo > P_neutro:\n",
    "        lista_classificacao.append(2)\n",
    "    else:\n",
    "        lista_classificacao.append(0)\n",
    "\n",
    "train['Target (código)'] = lista_classificacao\n",
    "train"
   ]
  },
  {
   "cell_type": "markdown",
   "metadata": {},
   "source": [
    "___\n",
    "### Verificando a performance do Classificador\n",
    "\n",
    "Agora você deve testar o seu classificador com a base de Testes."
   ]
  },
  {
   "cell_type": "code",
   "execution_count": 12,
   "metadata": {},
   "outputs": [
    {
     "name": "stderr",
     "output_type": "stream",
     "text": [
      "C:\\Users\\theok\\AppData\\Local\\Temp\\ipykernel_55596\\4024697688.py:3: SettingWithCopyWarning: \n",
      "A value is trying to be set on a copy of a slice from a DataFrame\n",
      "\n",
      "See the caveats in the documentation: https://pandas.pydata.org/pandas-docs/stable/user_guide/indexing.html#returning-a-view-versus-a-copy\n",
      "  test.Mensagem[i] = cleanup(test.Mensagem[i])\n"
     ]
    }
   ],
   "source": [
    "# Limpando os dados de teste\n",
    "for i in range(len (test.Mensagem)-1):\n",
    "    test.Mensagem[i] = cleanup(test.Mensagem[i])\n",
    "\n",
    "\n",
    "\n",
    "# Criando as listas de cada categoria\n",
    "lista_total_teste = []\n",
    "lista_neutro_teste = []\n",
    "lista_positivos_teste = []\n",
    "lista_negativos_teste = []\n",
    "\n",
    "for i in range(len (test.Mensagem)-1):\n",
    "    x = test.Mensagem[i].lower().split()\n",
    "    \n",
    "\n",
    "    t = 0\n",
    "    while t < len(x):\n",
    "        lista_total_teste.append(x[t])\n",
    "        t+=1\n",
    "\n",
    "    if test.iloc[i,1] == 0:\n",
    "        n = 0\n",
    "        while n < len(x):\n",
    "            lista_neutro_teste.append(x[n])\n",
    "            n+=1\n",
    "\n",
    "    elif test.iloc[i,1] == 1:\n",
    "        j = 0\n",
    "        while j < len(x):\n",
    "            lista_positivos_teste.append(x[j])\n",
    "            j+=1\n",
    "        \n",
    "    elif test.iloc[i,1] == 2:\n",
    "        k = 0\n",
    "        while k < len(x):\n",
    "            lista_negativos_teste.append(x[k])\n",
    "            k+=1\n",
    "\n",
    "\n",
    "\n",
    "# Criando as séries de cada categoria\n",
    "serie_total_teste = pd.Series(lista_total_teste)\n",
    "\n",
    "serie_positivos_teste = pd.Series(lista_positivos_teste)\n",
    "\n",
    "serie_negativos_teste = pd.Series(lista_negativos_teste)\n",
    "\n",
    "serie_neutro_teste = pd.Series(lista_neutro_teste)\n",
    "\n",
    "\n",
    "\n",
    "# Criando as tabelas de frequência absoluta e relativa de cada categoria\n",
    "total_absoluta_teste = serie_total_teste.value_counts()\n",
    "positivos_absoluta_teste = serie_positivos_teste.value_counts()\n",
    "negativos_absoluta_teste = serie_negativos_teste.value_counts()\n",
    "neutro_absoluta_teste = serie_neutro_teste.value_counts()\n",
    "\n",
    "total_relativa_teste = serie_total_teste.value_counts(True)\n",
    "positivos_relativa_teste = serie_positivos_teste.value_counts(True)\n",
    "negativos_relativa_teste = serie_negativos_teste.value_counts(True)\n",
    "neutro_relativa_teste = serie_neutro_teste.value_counts(True)\n",
    "\n",
    "\n",
    "# Probabilidades\n",
    "\n",
    "P_positivo_teste = len(positivos_absoluta_teste)/len(total_absoluta_teste)\n",
    "P_negativo_teste = len(negativos_absoluta_teste)/len(total_absoluta_teste)\n",
    "P_neutro_teste = len(neutro_absoluta_teste)/len(total_absoluta_teste)\n",
    "lista_classificacao_teste = []\n",
    "\n",
    "\n",
    "\n",
    "for mensagem in test.Mensagem:\n",
    "    \n",
    "    lista_palavras_teste = mensagem.split()\n",
    "\n",
    "    P_positivo_teste = 1\n",
    "    P_negativo_teste = 1\n",
    "    P_neutro_teste = 1\n",
    "\n",
    "    for palavra in lista_palavras_teste:\n",
    "            if palavra in neutro_absoluta_teste:\n",
    "                P_neutro_teste *= (neutro_absoluta_teste[palavra]+1)/(len(neutro_absoluta_teste)+ len(total_absoluta_teste))\n",
    "            else:\n",
    "                P_neutro_teste *= 1/(len(neutro_absoluta_teste) + len(total_absoluta_teste))\n",
    "\n",
    "            if palavra in positivos_absoluta_teste:\n",
    "                P_positivo_teste *= (positivos_absoluta_teste[palavra]+1)/(len(positivos_absoluta_teste) + len(total_absoluta_teste))\n",
    "            else:\n",
    "                P_positivo_teste  *= 1/(len(positivos_absoluta_teste) + len(total_absoluta_teste))\n",
    "\n",
    "            if palavra in negativos_absoluta_teste:\n",
    "                P_negativo_teste *= (negativos_absoluta_teste[palavra]+1)/(len(negativos_absoluta_teste) + len(total_absoluta_teste))\n",
    "            else:\n",
    "                P_negativo_teste *= 1/(len(negativos_absoluta_teste) + len(total_absoluta_teste))\n",
    "\n",
    "\n",
    "    if P_positivo_teste > P_negativo_teste and P_positivo_teste > P_neutro_teste:\n",
    "        lista_classificacao_teste.append(1)\n",
    "    elif P_negativo_teste > P_positivo_teste and P_negativo_teste > P_neutro_teste:\n",
    "        lista_classificacao_teste.append(2)\n",
    "    else:\n",
    "        lista_classificacao_teste.append(0)\n",
    "\n",
    "test['Target (código)'] = lista_classificacao_teste\n",
    "\n"
   ]
  },
  {
   "cell_type": "code",
   "execution_count": 13,
   "metadata": {},
   "outputs": [
    {
     "data": {
      "text/html": [
       "<div>\n",
       "<style scoped>\n",
       "    .dataframe tbody tr th:only-of-type {\n",
       "        vertical-align: middle;\n",
       "    }\n",
       "\n",
       "    .dataframe tbody tr th {\n",
       "        vertical-align: top;\n",
       "    }\n",
       "\n",
       "    .dataframe thead th {\n",
       "        text-align: right;\n",
       "    }\n",
       "</style>\n",
       "<table border=\"1\" class=\"dataframe\">\n",
       "  <thead>\n",
       "    <tr style=\"text-align: right;\">\n",
       "      <th></th>\n",
       "      <th>Mensagem</th>\n",
       "      <th>Target</th>\n",
       "      <th>Target (código)</th>\n",
       "    </tr>\n",
       "  </thead>\n",
       "  <tbody>\n",
       "    <tr>\n",
       "      <th>0</th>\n",
       "      <td>Livros e caixa vieram daificados Parte extera ...</td>\n",
       "      <td>2</td>\n",
       "      <td>2</td>\n",
       "    </tr>\n",
       "    <tr>\n",
       "      <th>1</th>\n",
       "      <td>A obra é uma fraude completa O autor é um astr...</td>\n",
       "      <td>0</td>\n",
       "      <td>0</td>\n",
       "    </tr>\n",
       "    <tr>\n",
       "      <th>2</th>\n",
       "      <td>Trata de modo superficial o tema da velocidade...</td>\n",
       "      <td>0</td>\n",
       "      <td>0</td>\n",
       "    </tr>\n",
       "    <tr>\n",
       "      <th>3</th>\n",
       "      <td>Descreve um relacioameto abusivo que é bem dif...</td>\n",
       "      <td>0</td>\n",
       "      <td>0</td>\n",
       "    </tr>\n",
       "    <tr>\n",
       "      <th>4</th>\n",
       "      <td>O box chegou com amassados riscos e com uma es...</td>\n",
       "      <td>2</td>\n",
       "      <td>2</td>\n",
       "    </tr>\n",
       "  </tbody>\n",
       "</table>\n",
       "</div>"
      ],
      "text/plain": [
       "                                            Mensagem  Target  Target (código)\n",
       "0  Livros e caixa vieram daificados Parte extera ...       2                2\n",
       "1  A obra é uma fraude completa O autor é um astr...       0                0\n",
       "2  Trata de modo superficial o tema da velocidade...       0                0\n",
       "3  Descreve um relacioameto abusivo que é bem dif...       0                0\n",
       "4  O box chegou com amassados riscos e com uma es...       2                2"
      ]
     },
     "execution_count": 13,
     "metadata": {},
     "output_type": "execute_result"
    }
   ],
   "source": [
    "test.head(5)"
   ]
  },
  {
   "cell_type": "code",
   "execution_count": 14,
   "metadata": {},
   "outputs": [
    {
     "data": {
      "text/html": [
       "<div>\n",
       "<style scoped>\n",
       "    .dataframe tbody tr th:only-of-type {\n",
       "        vertical-align: middle;\n",
       "    }\n",
       "\n",
       "    .dataframe tbody tr th {\n",
       "        vertical-align: top;\n",
       "    }\n",
       "\n",
       "    .dataframe thead th {\n",
       "        text-align: right;\n",
       "    }\n",
       "</style>\n",
       "<table border=\"1\" class=\"dataframe\">\n",
       "  <thead>\n",
       "    <tr style=\"text-align: right;\">\n",
       "      <th>Target (código)</th>\n",
       "      <th>0</th>\n",
       "      <th>1</th>\n",
       "      <th>2</th>\n",
       "    </tr>\n",
       "    <tr>\n",
       "      <th>Target</th>\n",
       "      <th></th>\n",
       "      <th></th>\n",
       "      <th></th>\n",
       "    </tr>\n",
       "  </thead>\n",
       "  <tbody>\n",
       "    <tr>\n",
       "      <th>0</th>\n",
       "      <td>0.575</td>\n",
       "      <td>0.000</td>\n",
       "      <td>0.000</td>\n",
       "    </tr>\n",
       "    <tr>\n",
       "      <th>1</th>\n",
       "      <td>0.140</td>\n",
       "      <td>0.025</td>\n",
       "      <td>0.005</td>\n",
       "    </tr>\n",
       "    <tr>\n",
       "      <th>2</th>\n",
       "      <td>0.030</td>\n",
       "      <td>0.000</td>\n",
       "      <td>0.225</td>\n",
       "    </tr>\n",
       "  </tbody>\n",
       "</table>\n",
       "</div>"
      ],
      "text/plain": [
       "Target (código)      0      1      2\n",
       "Target                              \n",
       "0                0.575  0.000  0.000\n",
       "1                0.140  0.025  0.005\n",
       "2                0.030  0.000  0.225"
      ]
     },
     "metadata": {},
     "output_type": "display_data"
    },
    {
     "name": "stdout",
     "output_type": "stream",
     "text": [
      "\n",
      "\n"
     ]
    },
    {
     "data": {
      "text/html": [
       "<div>\n",
       "<style scoped>\n",
       "    .dataframe tbody tr th:only-of-type {\n",
       "        vertical-align: middle;\n",
       "    }\n",
       "\n",
       "    .dataframe tbody tr th {\n",
       "        vertical-align: top;\n",
       "    }\n",
       "\n",
       "    .dataframe thead th {\n",
       "        text-align: right;\n",
       "    }\n",
       "</style>\n",
       "<table border=\"1\" class=\"dataframe\">\n",
       "  <thead>\n",
       "    <tr style=\"text-align: right;\">\n",
       "      <th></th>\n",
       "      <th>Verdadeiro Positivo</th>\n",
       "      <th>Verdadeiro Negativo</th>\n",
       "      <th>Verdadeiro Neutro</th>\n",
       "      <th>Falso Neutro</th>\n",
       "      <th>Falso Positivo</th>\n",
       "      <th>Falso Negativo</th>\n",
       "    </tr>\n",
       "  </thead>\n",
       "  <tbody>\n",
       "    <tr>\n",
       "      <th>0</th>\n",
       "      <td>2.50%</td>\n",
       "      <td>22.50%</td>\n",
       "      <td>57.50%</td>\n",
       "      <td>17.00%</td>\n",
       "      <td>0.00%</td>\n",
       "      <td>0.50%</td>\n",
       "    </tr>\n",
       "  </tbody>\n",
       "</table>\n",
       "</div>"
      ],
      "text/plain": [
       "  Verdadeiro Positivo Verdadeiro Negativo Verdadeiro Neutro Falso Neutro  \\\n",
       "0               2.50%              22.50%            57.50%       17.00%   \n",
       "\n",
       "  Falso Positivo Falso Negativo  \n",
       "0          0.00%          0.50%  "
      ]
     },
     "metadata": {},
     "output_type": "display_data"
    },
    {
     "name": "stdout",
     "output_type": "stream",
     "text": [
      "\n",
      "\n",
      "A porcantegem de acerto quando o código fala que é neutro, é de: 77.18%\n",
      "A porcantegem de acerto quando o código fala que é positivo, é de: 100.0%\n",
      "A porcantegem de acerto quando o código fala que é negativo, é de: 97.83%\n",
      "\n",
      "\n",
      "A acurácia é de: 82.5%\n"
     ]
    }
   ],
   "source": [
    "lista_classificacao_correta = test.Target\n",
    "\n",
    "tabela_relativa = pd.crosstab(lista_classificacao_correta, lista_classificacao_teste, rownames=['Target'], colnames=['Target (código)'], normalize=True)\n",
    "display(tabela_relativa)\n",
    "print('\\n')\n",
    "\n",
    "\n",
    "# Porcentagem de verdadeiros positivos:\n",
    "verdadeiro_positivo = tabela_relativa.iloc[1,1]\n",
    "\n",
    "# Porcentagem de verdadeiros negativos:\n",
    "verdadeiro_negativo = tabela_relativa.iloc[2,2]\n",
    "\n",
    "# Porcentagem de verdadeiros neutros:\n",
    "verdadeiro_neutro = tabela_relativa.iloc[0,0]\n",
    "\n",
    "# Porcentagem de falsos neutros:\n",
    "falso_neutro = tabela_relativa.iloc[1,0] + tabela_relativa.iloc[2,0]\n",
    "\n",
    "# Porcentagem de falsos positivos:\n",
    "falso_positivo = tabela_relativa.iloc[0,1] + tabela_relativa.iloc[2,1]\n",
    "\n",
    "# Porcentagem de falsos negativos:\n",
    "falso_negativo = tabela_relativa.iloc[0,2] + tabela_relativa.iloc[1,2]\n",
    "\n",
    "# Tabela de porcentagem de acertos e erros:\n",
    "tabela_erros_acertos = pd.DataFrame({'Verdadeiro Positivo': [f\"{verdadeiro_positivo*100:.2f}%\"], 'Verdadeiro Negativo': [f\"{verdadeiro_negativo*100:.2f}%\"], 'Verdadeiro Neutro': [f\"{verdadeiro_neutro*100:.2f}%\"], 'Falso Neutro': [f\"{falso_neutro*100:.2f}%\"], 'Falso Positivo': [f\"{falso_positivo*100:.2f}%\"], 'Falso Negativo': [f\"{falso_negativo*100:.2f}%\"]})\n",
    "display(tabela_erros_acertos)\n",
    "print('\\n')\n",
    "\n",
    "\n",
    "# Porcentagem de acertos quando código da neutro:\n",
    "neutros_acertos = tabela_relativa.iloc[0,0]/(tabela_relativa.iloc[:,0].sum())\n",
    "print(f'A porcantegem de acerto quando o código fala que é neutro, é de: {neutros_acertos.round(4)*100}%')\n",
    "\n",
    "# Porcentagem de acertos quando código da positivo:\n",
    "positivos_acertos = tabela_relativa.iloc[1,1]/(tabela_relativa.iloc[:,1].sum())\n",
    "print(f'A porcantegem de acerto quando o código fala que é positivo, é de: {positivos_acertos.round(4)*100}%')\n",
    "\n",
    "# Porcentagem de acertos quando código da negativo:\n",
    "negativos_acertos = tabela_relativa.iloc[2,2]/(tabela_relativa.iloc[:,2].sum())\n",
    "print(f'A porcantegem de acerto quando o código fala que é negativo, é de: {negativos_acertos.round(4)*100}%')\n",
    "\n",
    "\n",
    "\n",
    "# Acurácia:\n",
    "acuracia = tabela_relativa.iloc[0,0] + tabela_relativa.iloc[1,1] + tabela_relativa.iloc[2,2]\n",
    "print('\\n')\n",
    "print(f'A acurácia é de: {acuracia.round(4)*100}%')\n"
   ]
  },
  {
   "cell_type": "markdown",
   "metadata": {},
   "source": [
    "___\n",
    "### Concluindo"
   ]
  },
  {
   "cell_type": "markdown",
   "metadata": {},
   "source": [
    "A partir da análise dos resultados obtidos, conseguimos observar que a porcentagem de acerto quando o código fala que é do livro é de 100%, isso se deve ao fato de que na nossa base de dados, obtivemos muitas reviews sobre o livro em si. Contudo, tivemos uma porcentagem relativamente baixa comparada com as demais em relação às criticas voltadas ao autor, isso pode ser explicado a partir dos reviews dessa target, tendo em vista que diversas vezes não falavam-se apenas do autor em específico, mas também de sua obra.\n",
    "Contudo, a acurácia exata do nosso projeto foi de 82.5%, relativamente alta, indicando que em geral o resultado obtido no projeto foi relevante e confiável."
   ]
  },
  {
   "cell_type": "markdown",
   "metadata": {},
   "source": [
    "___\n",
    "### Qualidade do Classificador a partir de novas separações dos tweets entre Treinamento e Teste\n",
    "\n",
    "Caso for fazer esse item do Projeto"
   ]
  },
  {
   "cell_type": "code",
   "execution_count": 15,
   "metadata": {},
   "outputs": [],
   "source": [
    "from sklearn.model_selection import train_test_split"
   ]
  },
  {
   "cell_type": "code",
   "execution_count": null,
   "metadata": {},
   "outputs": [],
   "source": []
  },
  {
   "cell_type": "code",
   "execution_count": null,
   "metadata": {},
   "outputs": [],
   "source": []
  },
  {
   "attachments": {},
   "cell_type": "markdown",
   "metadata": {},
   "source": [
    "___\n",
    "## Aperfeiçoamento:\n",
    "\n",
    "Trabalhos que conseguirem pelo menos conceito B vão evoluir em conceito dependendo da quantidade de itens avançados:\n",
    "\n",
    "* IMPLEMENTOU outras limpezas e transformações que não afetem a qualidade da informação contida nos tweets. Ex: stemming, lemmatization, stopwords\n",
    "* CONSIDEROU mais de duas categorias na variável Target e INCREMENTOU a quantidade de notícias, mantendo pelo menos 250 notícias por categoria (OBRIGATÓRIO PARA TRIOS, sem contar como item avançado)\n",
    "* Bigramas (enunciado do projeto)\n",
    "* EXPLICOU porquê não pode usar o próprio classificador para gerar mais amostras de treinamento\n",
    "* PROPÔS diferentes cenários para Naïve Bayes fora do contexto do projeto (pelo menos dois cenários, exceto aqueles já apresentados em sala pelos professores: por exemplo, filtro de spam)\n",
    "* SUGERIU e EXPLICOU melhorias reais com indicações concretas de como implementar (indicar como fazer e indicar material de pesquisa)\n",
    "* FEZ o item Qualidade do Classificador a partir de novas separações das Notícias entre Treinamento e Teste descrito no enunciado do projeto (OBRIGATÓRIO para conceitos A ou A+)"
   ]
  },
  {
   "cell_type": "markdown",
   "metadata": {},
   "source": [
    "___\n",
    "## Referências"
   ]
  },
  {
   "cell_type": "markdown",
   "metadata": {},
   "source": [
    "[Naive Bayes and Text Classification](https://arxiv.org/pdf/1410.5329.pdf)  **Mais completo**\n",
    "\n",
    "[A practical explanation of a Naive Bayes Classifier](https://monkeylearn.com/blog/practical-explanation-naive-bayes-classifier/) **Mais simples**"
   ]
  },
  {
   "cell_type": "code",
   "execution_count": null,
   "metadata": {},
   "outputs": [],
   "source": []
  }
 ],
 "metadata": {
  "kernelspec": {
   "display_name": "Python 3 (ipykernel)",
   "language": "python",
   "name": "python3"
  },
  "language_info": {
   "codemirror_mode": {
    "name": "ipython",
    "version": 3
   },
   "file_extension": ".py",
   "mimetype": "text/x-python",
   "name": "python",
   "nbconvert_exporter": "python",
   "pygments_lexer": "ipython3",
   "version": "3.9.12"
  }
 },
 "nbformat": 4,
 "nbformat_minor": 4
}
